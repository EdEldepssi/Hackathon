{
 "cells": [
  {
   "cell_type": "code",
   "execution_count": 85,
   "id": "614672d8",
   "metadata": {},
   "outputs": [],
   "source": [
    "import pandas as pd\n",
    "import numpy as np\n",
    "import matplotlib.pyplot as plt\n",
    "from math import sqrt\n",
    "from sklearn.model_selection import train_test_split\n",
    "from sklearn.linear_model import LinearRegression, LogisticRegression\n",
    "from sklearn.neighbors import KNeighborsRegressor\n",
    "from sklearn.tree import DecisionTreeRegressor\n",
    "from sklearn.preprocessing import StandardScaler\n",
    "from sklearn.ensemble import BaggingRegressor, RandomForestRegressor, AdaBoostRegressor, GradientBoostingRegressor\n",
    "from sklearn.metrics import mean_squared_error\n",
    "from sklearn import svm\n",
    "from sklearn.metrics import ConfusionMatrixDisplay"
   ]
  },
  {
   "cell_type": "code",
   "execution_count": 114,
   "id": "572d91b3",
   "metadata": {},
   "outputs": [
    {
     "data": {
      "text/html": [
       "<div>\n",
       "<style scoped>\n",
       "    .dataframe tbody tr th:only-of-type {\n",
       "        vertical-align: middle;\n",
       "    }\n",
       "\n",
       "    .dataframe tbody tr th {\n",
       "        vertical-align: top;\n",
       "    }\n",
       "\n",
       "    .dataframe thead th {\n",
       "        text-align: right;\n",
       "    }\n",
       "</style>\n",
       "<table border=\"1\" class=\"dataframe\">\n",
       "  <thead>\n",
       "    <tr style=\"text-align: right;\">\n",
       "      <th></th>\n",
       "      <th>Sex</th>\n",
       "      <th>Length</th>\n",
       "      <th>Diameter</th>\n",
       "      <th>Height</th>\n",
       "      <th>Weight</th>\n",
       "      <th>Shucked Weight</th>\n",
       "      <th>Viscera Weight</th>\n",
       "      <th>Shell Weight</th>\n",
       "      <th>Age</th>\n",
       "    </tr>\n",
       "  </thead>\n",
       "  <tbody>\n",
       "    <tr>\n",
       "      <th>0</th>\n",
       "      <td>F</td>\n",
       "      <td>1.4375</td>\n",
       "      <td>1.1750</td>\n",
       "      <td>0.4125</td>\n",
       "      <td>24.635715</td>\n",
       "      <td>12.332033</td>\n",
       "      <td>5.584852</td>\n",
       "      <td>6.747181</td>\n",
       "      <td>9</td>\n",
       "    </tr>\n",
       "    <tr>\n",
       "      <th>1</th>\n",
       "      <td>M</td>\n",
       "      <td>0.8875</td>\n",
       "      <td>0.6500</td>\n",
       "      <td>0.2125</td>\n",
       "      <td>5.400580</td>\n",
       "      <td>2.296310</td>\n",
       "      <td>1.374951</td>\n",
       "      <td>1.559222</td>\n",
       "      <td>6</td>\n",
       "    </tr>\n",
       "    <tr>\n",
       "      <th>2</th>\n",
       "      <td>I</td>\n",
       "      <td>1.0375</td>\n",
       "      <td>0.7750</td>\n",
       "      <td>0.2500</td>\n",
       "      <td>7.952035</td>\n",
       "      <td>3.231843</td>\n",
       "      <td>1.601747</td>\n",
       "      <td>2.764076</td>\n",
       "      <td>6</td>\n",
       "    </tr>\n",
       "    <tr>\n",
       "      <th>3</th>\n",
       "      <td>F</td>\n",
       "      <td>1.1750</td>\n",
       "      <td>0.8875</td>\n",
       "      <td>0.2500</td>\n",
       "      <td>13.480187</td>\n",
       "      <td>4.748541</td>\n",
       "      <td>2.282135</td>\n",
       "      <td>5.244657</td>\n",
       "      <td>10</td>\n",
       "    </tr>\n",
       "    <tr>\n",
       "      <th>4</th>\n",
       "      <td>I</td>\n",
       "      <td>0.8875</td>\n",
       "      <td>0.6625</td>\n",
       "      <td>0.2125</td>\n",
       "      <td>6.903103</td>\n",
       "      <td>3.458639</td>\n",
       "      <td>1.488349</td>\n",
       "      <td>1.700970</td>\n",
       "      <td>6</td>\n",
       "    </tr>\n",
       "  </tbody>\n",
       "</table>\n",
       "</div>"
      ],
      "text/plain": [
       "  Sex  Length  Diameter  Height     Weight  Shucked Weight  Viscera Weight  \\\n",
       "0   F  1.4375    1.1750  0.4125  24.635715       12.332033        5.584852   \n",
       "1   M  0.8875    0.6500  0.2125   5.400580        2.296310        1.374951   \n",
       "2   I  1.0375    0.7750  0.2500   7.952035        3.231843        1.601747   \n",
       "3   F  1.1750    0.8875  0.2500  13.480187        4.748541        2.282135   \n",
       "4   I  0.8875    0.6625  0.2125   6.903103        3.458639        1.488349   \n",
       "\n",
       "   Shell Weight  Age  \n",
       "0      6.747181    9  \n",
       "1      1.559222    6  \n",
       "2      2.764076    6  \n",
       "3      5.244657   10  \n",
       "4      1.700970    6  "
      ]
     },
     "execution_count": 114,
     "metadata": {},
     "output_type": "execute_result"
    }
   ],
   "source": [
    "crab = pd.read_csv('CrabAgePrediction.csv')\n",
    "crab.head()"
   ]
  },
  {
   "cell_type": "code",
   "execution_count": 115,
   "id": "619e8b48",
   "metadata": {},
   "outputs": [
    {
     "data": {
      "text/plain": [
       "Sex               0\n",
       "Length            0\n",
       "Diameter          0\n",
       "Height            0\n",
       "Weight            0\n",
       "Shucked Weight    0\n",
       "Viscera Weight    0\n",
       "Shell Weight      0\n",
       "Age               0\n",
       "dtype: int64"
      ]
     },
     "execution_count": 115,
     "metadata": {},
     "output_type": "execute_result"
    }
   ],
   "source": [
    "crab.isnull().sum()"
   ]
  },
  {
   "cell_type": "code",
   "execution_count": 116,
   "id": "677b92fe",
   "metadata": {},
   "outputs": [
    {
     "data": {
      "text/plain": [
       "(3893, 9)"
      ]
     },
     "execution_count": 116,
     "metadata": {},
     "output_type": "execute_result"
    }
   ],
   "source": [
    "crab.shape"
   ]
  },
  {
   "cell_type": "code",
   "execution_count": 117,
   "id": "96a31bef",
   "metadata": {},
   "outputs": [
    {
     "name": "stdout",
     "output_type": "stream",
     "text": [
      "<class 'pandas.core.frame.DataFrame'>\n",
      "RangeIndex: 3893 entries, 0 to 3892\n",
      "Data columns (total 9 columns):\n",
      " #   Column          Non-Null Count  Dtype  \n",
      "---  ------          --------------  -----  \n",
      " 0   Sex             3893 non-null   object \n",
      " 1   Length          3893 non-null   float64\n",
      " 2   Diameter        3893 non-null   float64\n",
      " 3   Height          3893 non-null   float64\n",
      " 4   Weight          3893 non-null   float64\n",
      " 5   Shucked Weight  3893 non-null   float64\n",
      " 6   Viscera Weight  3893 non-null   float64\n",
      " 7   Shell Weight    3893 non-null   float64\n",
      " 8   Age             3893 non-null   int64  \n",
      "dtypes: float64(7), int64(1), object(1)\n",
      "memory usage: 273.9+ KB\n"
     ]
    }
   ],
   "source": [
    "crab.info()"
   ]
  },
  {
   "cell_type": "code",
   "execution_count": 118,
   "id": "5229afe5",
   "metadata": {},
   "outputs": [],
   "source": [
    "#crab = pd.get_dummies(crab, columns=['Sex'])"
   ]
  },
  {
   "cell_type": "code",
   "execution_count": 119,
   "id": "98dba4c4",
   "metadata": {},
   "outputs": [],
   "source": [
    "crab[\"Sex\"] = crab[\"Sex\"].map( {\"M\": 2, \"F\": 1, \"I\": 0})"
   ]
  },
  {
   "cell_type": "code",
   "execution_count": 120,
   "id": "1e23beb9",
   "metadata": {},
   "outputs": [
    {
     "data": {
      "text/html": [
       "<div>\n",
       "<style scoped>\n",
       "    .dataframe tbody tr th:only-of-type {\n",
       "        vertical-align: middle;\n",
       "    }\n",
       "\n",
       "    .dataframe tbody tr th {\n",
       "        vertical-align: top;\n",
       "    }\n",
       "\n",
       "    .dataframe thead th {\n",
       "        text-align: right;\n",
       "    }\n",
       "</style>\n",
       "<table border=\"1\" class=\"dataframe\">\n",
       "  <thead>\n",
       "    <tr style=\"text-align: right;\">\n",
       "      <th></th>\n",
       "      <th>Sex</th>\n",
       "      <th>Length</th>\n",
       "      <th>Diameter</th>\n",
       "      <th>Height</th>\n",
       "      <th>Weight</th>\n",
       "      <th>Shucked Weight</th>\n",
       "      <th>Viscera Weight</th>\n",
       "      <th>Shell Weight</th>\n",
       "      <th>Age</th>\n",
       "    </tr>\n",
       "  </thead>\n",
       "  <tbody>\n",
       "    <tr>\n",
       "      <th>count</th>\n",
       "      <td>3893.000000</td>\n",
       "      <td>3893.000000</td>\n",
       "      <td>3893.000000</td>\n",
       "      <td>3893.000000</td>\n",
       "      <td>3893.000000</td>\n",
       "      <td>3893.000000</td>\n",
       "      <td>3893.000000</td>\n",
       "      <td>3893.000000</td>\n",
       "      <td>3893.000000</td>\n",
       "    </tr>\n",
       "    <tr>\n",
       "      <th>mean</th>\n",
       "      <td>1.051888</td>\n",
       "      <td>1.311306</td>\n",
       "      <td>1.020893</td>\n",
       "      <td>0.349374</td>\n",
       "      <td>23.567275</td>\n",
       "      <td>10.207342</td>\n",
       "      <td>5.136546</td>\n",
       "      <td>6.795844</td>\n",
       "      <td>9.954791</td>\n",
       "    </tr>\n",
       "    <tr>\n",
       "      <th>std</th>\n",
       "      <td>0.826327</td>\n",
       "      <td>0.300431</td>\n",
       "      <td>0.248233</td>\n",
       "      <td>0.104976</td>\n",
       "      <td>13.891201</td>\n",
       "      <td>6.275275</td>\n",
       "      <td>3.104133</td>\n",
       "      <td>3.943392</td>\n",
       "      <td>3.220967</td>\n",
       "    </tr>\n",
       "    <tr>\n",
       "      <th>min</th>\n",
       "      <td>0.000000</td>\n",
       "      <td>0.187500</td>\n",
       "      <td>0.137500</td>\n",
       "      <td>0.000000</td>\n",
       "      <td>0.056699</td>\n",
       "      <td>0.028349</td>\n",
       "      <td>0.014175</td>\n",
       "      <td>0.042524</td>\n",
       "      <td>1.000000</td>\n",
       "    </tr>\n",
       "    <tr>\n",
       "      <th>25%</th>\n",
       "      <td>0.000000</td>\n",
       "      <td>1.125000</td>\n",
       "      <td>0.875000</td>\n",
       "      <td>0.287500</td>\n",
       "      <td>12.672227</td>\n",
       "      <td>5.343881</td>\n",
       "      <td>2.664853</td>\n",
       "      <td>3.713785</td>\n",
       "      <td>8.000000</td>\n",
       "    </tr>\n",
       "    <tr>\n",
       "      <th>50%</th>\n",
       "      <td>1.000000</td>\n",
       "      <td>1.362500</td>\n",
       "      <td>1.062500</td>\n",
       "      <td>0.362500</td>\n",
       "      <td>22.792998</td>\n",
       "      <td>9.539607</td>\n",
       "      <td>4.861939</td>\n",
       "      <td>6.662133</td>\n",
       "      <td>10.000000</td>\n",
       "    </tr>\n",
       "    <tr>\n",
       "      <th>75%</th>\n",
       "      <td>2.000000</td>\n",
       "      <td>1.537500</td>\n",
       "      <td>1.200000</td>\n",
       "      <td>0.412500</td>\n",
       "      <td>32.786197</td>\n",
       "      <td>14.273973</td>\n",
       "      <td>7.200773</td>\n",
       "      <td>9.355335</td>\n",
       "      <td>11.000000</td>\n",
       "    </tr>\n",
       "    <tr>\n",
       "      <th>max</th>\n",
       "      <td>2.000000</td>\n",
       "      <td>2.037500</td>\n",
       "      <td>1.625000</td>\n",
       "      <td>2.825000</td>\n",
       "      <td>80.101512</td>\n",
       "      <td>42.184056</td>\n",
       "      <td>21.545620</td>\n",
       "      <td>28.491248</td>\n",
       "      <td>29.000000</td>\n",
       "    </tr>\n",
       "  </tbody>\n",
       "</table>\n",
       "</div>"
      ],
      "text/plain": [
       "               Sex       Length     Diameter       Height       Weight  \\\n",
       "count  3893.000000  3893.000000  3893.000000  3893.000000  3893.000000   \n",
       "mean      1.051888     1.311306     1.020893     0.349374    23.567275   \n",
       "std       0.826327     0.300431     0.248233     0.104976    13.891201   \n",
       "min       0.000000     0.187500     0.137500     0.000000     0.056699   \n",
       "25%       0.000000     1.125000     0.875000     0.287500    12.672227   \n",
       "50%       1.000000     1.362500     1.062500     0.362500    22.792998   \n",
       "75%       2.000000     1.537500     1.200000     0.412500    32.786197   \n",
       "max       2.000000     2.037500     1.625000     2.825000    80.101512   \n",
       "\n",
       "       Shucked Weight  Viscera Weight  Shell Weight          Age  \n",
       "count     3893.000000     3893.000000   3893.000000  3893.000000  \n",
       "mean        10.207342        5.136546      6.795844     9.954791  \n",
       "std          6.275275        3.104133      3.943392     3.220967  \n",
       "min          0.028349        0.014175      0.042524     1.000000  \n",
       "25%          5.343881        2.664853      3.713785     8.000000  \n",
       "50%          9.539607        4.861939      6.662133    10.000000  \n",
       "75%         14.273973        7.200773      9.355335    11.000000  \n",
       "max         42.184056       21.545620     28.491248    29.000000  "
      ]
     },
     "execution_count": 120,
     "metadata": {},
     "output_type": "execute_result"
    }
   ],
   "source": [
    "crab.describe()"
   ]
  },
  {
   "cell_type": "code",
   "execution_count": 121,
   "id": "f471ce65",
   "metadata": {},
   "outputs": [
    {
     "data": {
      "text/plain": [
       "2256    2.8250\n",
       "748     1.2875\n",
       "772     0.6250\n",
       "1485    0.6250\n",
       "2588    0.6250\n",
       "         ...  \n",
       "3542    0.0375\n",
       "1123    0.0375\n",
       "1330    0.0250\n",
       "3867    0.0000\n",
       "269     0.0000\n",
       "Name: Height, Length: 3893, dtype: float64"
      ]
     },
     "execution_count": 121,
     "metadata": {},
     "output_type": "execute_result"
    }
   ],
   "source": [
    "crab['Height'].sort_values(ascending=False)"
   ]
  },
  {
   "cell_type": "code",
   "execution_count": 122,
   "id": "dc1a62fc",
   "metadata": {},
   "outputs": [],
   "source": [
    "#crab['Height'] = \n",
    "crab = crab[crab['Height'] < 1] \n",
    "crab = crab[crab['Height'] > 0]"
   ]
  },
  {
   "cell_type": "code",
   "execution_count": 123,
   "id": "36dc7672",
   "metadata": {},
   "outputs": [
    {
     "data": {
      "text/plain": [
       "3633    0.496116\n",
       "2765    0.439417\n",
       "1134    0.425243\n",
       "955     0.411068\n",
       "1123    0.411068\n",
       "307     0.396893\n",
       "3728    0.368544\n",
       "1177    0.297670\n",
       "753     0.226796\n",
       "1330    0.056699\n",
       "Name: Weight, dtype: float64"
      ]
     },
     "execution_count": 123,
     "metadata": {},
     "output_type": "execute_result"
    }
   ],
   "source": [
    "crab['Weight'].sort_values(ascending=False).tail(10)"
   ]
  },
  {
   "cell_type": "code",
   "execution_count": 124,
   "id": "d1b376b6",
   "metadata": {},
   "outputs": [],
   "source": [
    "#crab = crab[crab['Weight'] > 0.1]"
   ]
  },
  {
   "cell_type": "code",
   "execution_count": 125,
   "id": "b7a2bde6",
   "metadata": {},
   "outputs": [
    {
     "data": {
      "text/html": [
       "<div>\n",
       "<style scoped>\n",
       "    .dataframe tbody tr th:only-of-type {\n",
       "        vertical-align: middle;\n",
       "    }\n",
       "\n",
       "    .dataframe tbody tr th {\n",
       "        vertical-align: top;\n",
       "    }\n",
       "\n",
       "    .dataframe thead th {\n",
       "        text-align: right;\n",
       "    }\n",
       "</style>\n",
       "<table border=\"1\" class=\"dataframe\">\n",
       "  <thead>\n",
       "    <tr style=\"text-align: right;\">\n",
       "      <th></th>\n",
       "      <th>Sex</th>\n",
       "      <th>Length</th>\n",
       "      <th>Diameter</th>\n",
       "      <th>Height</th>\n",
       "      <th>Weight</th>\n",
       "      <th>Shucked Weight</th>\n",
       "      <th>Viscera Weight</th>\n",
       "      <th>Shell Weight</th>\n",
       "      <th>Age</th>\n",
       "    </tr>\n",
       "  </thead>\n",
       "  <tbody>\n",
       "    <tr>\n",
       "      <th>0</th>\n",
       "      <td>1</td>\n",
       "      <td>1.4375</td>\n",
       "      <td>1.1750</td>\n",
       "      <td>0.4125</td>\n",
       "      <td>24.635715</td>\n",
       "      <td>12.332033</td>\n",
       "      <td>5.584852</td>\n",
       "      <td>6.747181</td>\n",
       "      <td>9</td>\n",
       "    </tr>\n",
       "    <tr>\n",
       "      <th>1</th>\n",
       "      <td>2</td>\n",
       "      <td>0.8875</td>\n",
       "      <td>0.6500</td>\n",
       "      <td>0.2125</td>\n",
       "      <td>5.400580</td>\n",
       "      <td>2.296310</td>\n",
       "      <td>1.374951</td>\n",
       "      <td>1.559222</td>\n",
       "      <td>6</td>\n",
       "    </tr>\n",
       "    <tr>\n",
       "      <th>2</th>\n",
       "      <td>0</td>\n",
       "      <td>1.0375</td>\n",
       "      <td>0.7750</td>\n",
       "      <td>0.2500</td>\n",
       "      <td>7.952035</td>\n",
       "      <td>3.231843</td>\n",
       "      <td>1.601747</td>\n",
       "      <td>2.764076</td>\n",
       "      <td>6</td>\n",
       "    </tr>\n",
       "    <tr>\n",
       "      <th>3</th>\n",
       "      <td>1</td>\n",
       "      <td>1.1750</td>\n",
       "      <td>0.8875</td>\n",
       "      <td>0.2500</td>\n",
       "      <td>13.480187</td>\n",
       "      <td>4.748541</td>\n",
       "      <td>2.282135</td>\n",
       "      <td>5.244657</td>\n",
       "      <td>10</td>\n",
       "    </tr>\n",
       "    <tr>\n",
       "      <th>4</th>\n",
       "      <td>0</td>\n",
       "      <td>0.8875</td>\n",
       "      <td>0.6625</td>\n",
       "      <td>0.2125</td>\n",
       "      <td>6.903103</td>\n",
       "      <td>3.458639</td>\n",
       "      <td>1.488349</td>\n",
       "      <td>1.700970</td>\n",
       "      <td>6</td>\n",
       "    </tr>\n",
       "  </tbody>\n",
       "</table>\n",
       "</div>"
      ],
      "text/plain": [
       "   Sex  Length  Diameter  Height     Weight  Shucked Weight  Viscera Weight  \\\n",
       "0    1  1.4375    1.1750  0.4125  24.635715       12.332033        5.584852   \n",
       "1    2  0.8875    0.6500  0.2125   5.400580        2.296310        1.374951   \n",
       "2    0  1.0375    0.7750  0.2500   7.952035        3.231843        1.601747   \n",
       "3    1  1.1750    0.8875  0.2500  13.480187        4.748541        2.282135   \n",
       "4    0  0.8875    0.6625  0.2125   6.903103        3.458639        1.488349   \n",
       "\n",
       "   Shell Weight  Age  \n",
       "0      6.747181    9  \n",
       "1      1.559222    6  \n",
       "2      2.764076    6  \n",
       "3      5.244657   10  \n",
       "4      1.700970    6  "
      ]
     },
     "execution_count": 125,
     "metadata": {},
     "output_type": "execute_result"
    }
   ],
   "source": [
    "crab.head()"
   ]
  },
  {
   "cell_type": "code",
   "execution_count": 126,
   "id": "47aba314",
   "metadata": {},
   "outputs": [
    {
     "data": {
      "text/plain": [
       "(3889, 9)"
      ]
     },
     "execution_count": 126,
     "metadata": {},
     "output_type": "execute_result"
    }
   ],
   "source": [
    "crab.shape"
   ]
  },
  {
   "cell_type": "code",
   "execution_count": 134,
   "id": "4ca47881",
   "metadata": {},
   "outputs": [],
   "source": [
    "crab['baseline'] = crab['Age'].mean()"
   ]
  },
  {
   "cell_type": "code",
   "execution_count": 136,
   "id": "bd5d844e",
   "metadata": {},
   "outputs": [
    {
     "data": {
      "text/plain": [
       "3.2212788357991142"
      ]
     },
     "execution_count": 136,
     "metadata": {},
     "output_type": "execute_result"
    }
   ],
   "source": [
    "base_rmse = np.mean((crab.Age - crab.baseline) ** 2) ** .5\n",
    "base_rmse"
   ]
  },
  {
   "cell_type": "code",
   "execution_count": 135,
   "id": "e0f75376",
   "metadata": {},
   "outputs": [
    {
     "data": {
      "text/html": [
       "<div>\n",
       "<style scoped>\n",
       "    .dataframe tbody tr th:only-of-type {\n",
       "        vertical-align: middle;\n",
       "    }\n",
       "\n",
       "    .dataframe tbody tr th {\n",
       "        vertical-align: top;\n",
       "    }\n",
       "\n",
       "    .dataframe thead th {\n",
       "        text-align: right;\n",
       "    }\n",
       "</style>\n",
       "<table border=\"1\" class=\"dataframe\">\n",
       "  <thead>\n",
       "    <tr style=\"text-align: right;\">\n",
       "      <th></th>\n",
       "      <th>Sex</th>\n",
       "      <th>Length</th>\n",
       "      <th>Diameter</th>\n",
       "      <th>Height</th>\n",
       "      <th>Weight</th>\n",
       "      <th>Shucked Weight</th>\n",
       "      <th>Viscera Weight</th>\n",
       "      <th>Shell Weight</th>\n",
       "      <th>Age</th>\n",
       "      <th>baseline</th>\n",
       "    </tr>\n",
       "  </thead>\n",
       "  <tbody>\n",
       "    <tr>\n",
       "      <th>0</th>\n",
       "      <td>1</td>\n",
       "      <td>1.4375</td>\n",
       "      <td>1.1750</td>\n",
       "      <td>0.4125</td>\n",
       "      <td>24.635715</td>\n",
       "      <td>12.332033</td>\n",
       "      <td>5.584852</td>\n",
       "      <td>6.747181</td>\n",
       "      <td>9</td>\n",
       "      <td>9.956801</td>\n",
       "    </tr>\n",
       "    <tr>\n",
       "      <th>1</th>\n",
       "      <td>2</td>\n",
       "      <td>0.8875</td>\n",
       "      <td>0.6500</td>\n",
       "      <td>0.2125</td>\n",
       "      <td>5.400580</td>\n",
       "      <td>2.296310</td>\n",
       "      <td>1.374951</td>\n",
       "      <td>1.559222</td>\n",
       "      <td>6</td>\n",
       "      <td>9.956801</td>\n",
       "    </tr>\n",
       "    <tr>\n",
       "      <th>2</th>\n",
       "      <td>0</td>\n",
       "      <td>1.0375</td>\n",
       "      <td>0.7750</td>\n",
       "      <td>0.2500</td>\n",
       "      <td>7.952035</td>\n",
       "      <td>3.231843</td>\n",
       "      <td>1.601747</td>\n",
       "      <td>2.764076</td>\n",
       "      <td>6</td>\n",
       "      <td>9.956801</td>\n",
       "    </tr>\n",
       "    <tr>\n",
       "      <th>3</th>\n",
       "      <td>1</td>\n",
       "      <td>1.1750</td>\n",
       "      <td>0.8875</td>\n",
       "      <td>0.2500</td>\n",
       "      <td>13.480187</td>\n",
       "      <td>4.748541</td>\n",
       "      <td>2.282135</td>\n",
       "      <td>5.244657</td>\n",
       "      <td>10</td>\n",
       "      <td>9.956801</td>\n",
       "    </tr>\n",
       "    <tr>\n",
       "      <th>4</th>\n",
       "      <td>0</td>\n",
       "      <td>0.8875</td>\n",
       "      <td>0.6625</td>\n",
       "      <td>0.2125</td>\n",
       "      <td>6.903103</td>\n",
       "      <td>3.458639</td>\n",
       "      <td>1.488349</td>\n",
       "      <td>1.700970</td>\n",
       "      <td>6</td>\n",
       "      <td>9.956801</td>\n",
       "    </tr>\n",
       "  </tbody>\n",
       "</table>\n",
       "</div>"
      ],
      "text/plain": [
       "   Sex  Length  Diameter  Height     Weight  Shucked Weight  Viscera Weight  \\\n",
       "0    1  1.4375    1.1750  0.4125  24.635715       12.332033        5.584852   \n",
       "1    2  0.8875    0.6500  0.2125   5.400580        2.296310        1.374951   \n",
       "2    0  1.0375    0.7750  0.2500   7.952035        3.231843        1.601747   \n",
       "3    1  1.1750    0.8875  0.2500  13.480187        4.748541        2.282135   \n",
       "4    0  0.8875    0.6625  0.2125   6.903103        3.458639        1.488349   \n",
       "\n",
       "   Shell Weight  Age  baseline  \n",
       "0      6.747181    9  9.956801  \n",
       "1      1.559222    6  9.956801  \n",
       "2      2.764076    6  9.956801  \n",
       "3      5.244657   10  9.956801  \n",
       "4      1.700970    6  9.956801  "
      ]
     },
     "execution_count": 135,
     "metadata": {},
     "output_type": "execute_result"
    }
   ],
   "source": [
    "crab.head()"
   ]
  },
  {
   "cell_type": "code",
   "execution_count": 128,
   "id": "2df39801",
   "metadata": {},
   "outputs": [],
   "source": [
    "X = crab.drop(columns='Age')\n",
    "y = crab['Age']\n",
    "\n",
    "X_train, X_test, y_train, y_test = train_test_split(X, y, random_state=42)"
   ]
  },
  {
   "cell_type": "code",
   "execution_count": 129,
   "id": "29634ea8",
   "metadata": {},
   "outputs": [
    {
     "data": {
      "text/plain": [
       "LinearRegression()"
      ]
     },
     "execution_count": 129,
     "metadata": {},
     "output_type": "execute_result"
    }
   ],
   "source": [
    "lr = LinearRegression()\n",
    "lr.fit(X_train, y_train)\n",
    "\n",
    "#lr.score(X_train, y_train), lr.score(X_test, y_test)"
   ]
  },
  {
   "cell_type": "code",
   "execution_count": 130,
   "id": "4f830a40",
   "metadata": {},
   "outputs": [],
   "source": [
    "ss = StandardScaler()\n",
    "X_train_ss = ss.fit_transform(X_train)\n",
    "X_test_ss = ss.transform(X_test)"
   ]
  },
  {
   "cell_type": "code",
   "execution_count": 131,
   "id": "c69f9185",
   "metadata": {},
   "outputs": [],
   "source": [
    "lr = LinearRegression()\n",
    "knc = KNeighborsRegressor()\n",
    "dtc = DecisionTreeRegressor()\n",
    "bag = BaggingRegressor()\n",
    "rfc = RandomForestRegressor()\n",
    "abc = AdaBoostRegressor()\n",
    "svr = svm.SVR()\n",
    "gbr = GradientBoostingRegressor()\n",
    "\n",
    "\n",
    "list_of_classifiers = [lr, knc, dtc, bag, rfc, abc, svr, gbr]"
   ]
  },
  {
   "cell_type": "code",
   "execution_count": 132,
   "id": "61b44287",
   "metadata": {},
   "outputs": [
    {
     "name": "stdout",
     "output_type": "stream",
     "text": [
      "LinearRegression\n",
      "Training score:\n",
      "0.548307456540662\n",
      "Testing score:\n",
      "0.5109005634270476\n",
      "\n",
      "KNeighborsRegressor\n",
      "Training score:\n",
      "0.6647229937366266\n",
      "Testing score:\n",
      "0.45947941906204315\n",
      "\n",
      "DecisionTreeRegressor\n",
      "Training score:\n",
      "1.0\n",
      "Testing score:\n",
      "0.10761192545184128\n",
      "\n",
      "BaggingRegressor\n",
      "Training score:\n",
      "0.9085247619550897\n",
      "Testing score:\n",
      "0.48665255563316767\n",
      "\n",
      "RandomForestRegressor\n",
      "Training score:\n",
      "0.9380304998428111\n",
      "Testing score:\n",
      "0.5161616397760369\n",
      "\n",
      "AdaBoostRegressor\n",
      "Training score:\n",
      "0.28592603615023815\n",
      "Testing score:\n",
      "0.16538022287050158\n",
      "\n",
      "SVR\n",
      "Training score:\n",
      "0.5612030775750558\n",
      "Testing score:\n",
      "0.5324880062231494\n",
      "\n",
      "GradientBoostingRegressor\n",
      "Training score:\n",
      "0.6729889267336494\n",
      "Testing score:\n",
      "0.5183922227737887\n",
      "\n"
     ]
    }
   ],
   "source": [
    "for each in list_of_classifiers:\n",
    "    print(str(each).split('(')[0])\n",
    "    each.fit(X_train_ss, y_train)\n",
    "    print('Training score:')\n",
    "    print(each.score(X_train_ss, y_train))\n",
    "    print('Testing score:')\n",
    "    print(each.score(X_test_ss, y_test))\n",
    "    print()"
   ]
  },
  {
   "cell_type": "code",
   "execution_count": 133,
   "id": "c1f2401e",
   "metadata": {},
   "outputs": [
    {
     "name": "stdout",
     "output_type": "stream",
     "text": [
      "LinearRegression\n",
      "Train RMSE: \n",
      "2.1918158527556164\n",
      "Testing RMSE: \n",
      "2.166796294615213\n",
      "\n",
      "KNeighborsRegressor\n",
      "Train RMSE: \n",
      "1.8883586764922802\n",
      "Testing RMSE: \n",
      "2.277852615631792\n",
      "\n",
      "DecisionTreeRegressor\n",
      "Train RMSE: \n",
      "0.0\n",
      "Testing RMSE: \n",
      "2.926822479290917\n",
      "\n",
      "BaggingRegressor\n",
      "Train RMSE: \n",
      "0.9863575591883003\n",
      "Testing RMSE: \n",
      "2.2198580549604205\n",
      "\n",
      "RandomForestRegressor\n",
      "Train RMSE: \n",
      "0.8118421574509053\n",
      "Testing RMSE: \n",
      "2.1551110405550573\n",
      "\n",
      "AdaBoostRegressor\n",
      "Train RMSE: \n",
      "2.755841286883015\n",
      "Testing RMSE: \n",
      "2.8305044287482612\n",
      "\n",
      "SVR\n",
      "Train RMSE: \n",
      "2.1603016111918043\n",
      "Testing RMSE: \n",
      "2.1184386017243257\n",
      "\n",
      "GradientBoostingRegressor\n",
      "Train RMSE: \n",
      "1.864935571042451\n",
      "Testing RMSE: \n",
      "2.1501375745040177\n",
      "\n"
     ]
    }
   ],
   "source": [
    "for each in list_of_classifiers:\n",
    "    print(str(each).split('(')[0])\n",
    "    pred = each.predict(X_train_ss)\n",
    "    print('Train RMSE: ')\n",
    "    print(sqrt(mean_squared_error(y_train, pred)))\n",
    "    print('Testing RMSE: ')\n",
    "    pred = each.predict(X_test_ss)\n",
    "    print(sqrt(mean_squared_error(y_test, pred)))\n",
    "    print()"
   ]
  },
  {
   "cell_type": "code",
   "execution_count": null,
   "id": "548d2556",
   "metadata": {},
   "outputs": [],
   "source": []
  }
 ],
 "metadata": {
  "kernelspec": {
   "display_name": "Python 3 (ipykernel)",
   "language": "python",
   "name": "python3"
  },
  "language_info": {
   "codemirror_mode": {
    "name": "ipython",
    "version": 3
   },
   "file_extension": ".py",
   "mimetype": "text/x-python",
   "name": "python",
   "nbconvert_exporter": "python",
   "pygments_lexer": "ipython3",
   "version": "3.10.6"
  }
 },
 "nbformat": 4,
 "nbformat_minor": 5
}
